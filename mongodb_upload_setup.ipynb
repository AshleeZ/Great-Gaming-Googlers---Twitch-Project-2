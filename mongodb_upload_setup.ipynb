{
 "cells": [
  {
   "cell_type": "code",
   "execution_count": 1,
   "metadata": {},
   "outputs": [],
   "source": [
    "# import dependencies\n",
    "import pymongo\n",
    "import pandas as pd"
   ]
  },
  {
   "cell_type": "markdown",
   "metadata": {},
   "source": [
    "### NOTE: The csv file needs to be in the same directory as this notebook"
   ]
  },
  {
   "cell_type": "markdown",
   "metadata": {},
   "source": [
    "Change csv to correct csv name"
   ]
  },
  {
   "cell_type": "code",
   "execution_count": 50,
   "metadata": {},
   "outputs": [],
   "source": [
    "# define csv to import\n",
    "csv = 'Top Streamers.csv'"
   ]
  },
  {
   "cell_type": "code",
   "execution_count": 49,
   "metadata": {},
   "outputs": [
    {
     "data": {
      "text/html": [
       "<div>\n",
       "<style scoped>\n",
       "    .dataframe tbody tr th:only-of-type {\n",
       "        vertical-align: middle;\n",
       "    }\n",
       "\n",
       "    .dataframe tbody tr th {\n",
       "        vertical-align: top;\n",
       "    }\n",
       "\n",
       "    .dataframe thead th {\n",
       "        text-align: right;\n",
       "    }\n",
       "</style>\n",
       "<table border=\"1\" class=\"dataframe\">\n",
       "  <thead>\n",
       "    <tr style=\"text-align: right;\">\n",
       "      <th></th>\n",
       "      <th>rank_by_viewership</th>\n",
       "      <th>avg_viewers</th>\n",
       "      <th>time_streamed</th>\n",
       "      <th>all_time_peak_viewers</th>\n",
       "      <th>hours_watched</th>\n",
       "      <th>overall_rank</th>\n",
       "      <th>followers_gained</th>\n",
       "      <th>total_followers</th>\n",
       "      <th>total_views</th>\n",
       "    </tr>\n",
       "    <tr>\n",
       "      <th>streamer_channel_id</th>\n",
       "      <th></th>\n",
       "      <th></th>\n",
       "      <th></th>\n",
       "      <th></th>\n",
       "      <th></th>\n",
       "      <th></th>\n",
       "      <th></th>\n",
       "      <th></th>\n",
       "      <th></th>\n",
       "    </tr>\n",
       "  </thead>\n",
       "  <tbody>\n",
       "    <tr>\n",
       "      <th>TOMMYINNIT</th>\n",
       "      <td>#1</td>\n",
       "      <td>243,667</td>\n",
       "      <td>22.0</td>\n",
       "      <td>650,237</td>\n",
       "      <td>5.36M</td>\n",
       "      <td>1</td>\n",
       "      <td>+857K</td>\n",
       "      <td>3.31M</td>\n",
       "      <td>29.7M</td>\n",
       "    </tr>\n",
       "    <tr>\n",
       "      <th>AURONPLAY</th>\n",
       "      <td>#2</td>\n",
       "      <td>154,119</td>\n",
       "      <td>96.4</td>\n",
       "      <td>313,347</td>\n",
       "      <td>14.9M</td>\n",
       "      <td>2</td>\n",
       "      <td>+799K</td>\n",
       "      <td>7.14M</td>\n",
       "      <td>99.6M</td>\n",
       "    </tr>\n",
       "    <tr>\n",
       "      <th>QUACKITYHQ</th>\n",
       "      <td>#3</td>\n",
       "      <td>111,371</td>\n",
       "      <td>36.9</td>\n",
       "      <td>232,299</td>\n",
       "      <td>4.11M</td>\n",
       "      <td>10</td>\n",
       "      <td>+557K</td>\n",
       "      <td>2.19M</td>\n",
       "      <td>13.3M</td>\n",
       "    </tr>\n",
       "    <tr>\n",
       "      <th>KARLJACOBS</th>\n",
       "      <td>#4</td>\n",
       "      <td>100,640</td>\n",
       "      <td>24.2</td>\n",
       "      <td>160,297</td>\n",
       "      <td>2.44M</td>\n",
       "      <td>12</td>\n",
       "      <td>+321K</td>\n",
       "      <td>1.40M</td>\n",
       "      <td>8.90M</td>\n",
       "    </tr>\n",
       "    <tr>\n",
       "      <th>BLASTPREMIER</th>\n",
       "      <td>#5</td>\n",
       "      <td>88,628</td>\n",
       "      <td>55.3</td>\n",
       "      <td>208,744</td>\n",
       "      <td>4.90M</td>\n",
       "      <td>9</td>\n",
       "      <td>+115K</td>\n",
       "      <td>788K</td>\n",
       "      <td>61.8M</td>\n",
       "    </tr>\n",
       "  </tbody>\n",
       "</table>\n",
       "</div>"
      ],
      "text/plain": [
       "                    rank_by_viewership avg_viewers  time_streamed  \\\n",
       "streamer_channel_id                                                 \n",
       "TOMMYINNIT                          #1     243,667           22.0   \n",
       "AURONPLAY                           #2     154,119           96.4   \n",
       "QUACKITYHQ                          #3     111,371           36.9   \n",
       "KARLJACOBS                          #4     100,640           24.2   \n",
       "BLASTPREMIER                        #5      88,628           55.3   \n",
       "\n",
       "                    all_time_peak_viewers hours_watched  overall_rank  \\\n",
       "streamer_channel_id                                                     \n",
       "TOMMYINNIT                        650,237         5.36M             1   \n",
       "AURONPLAY                         313,347         14.9M             2   \n",
       "QUACKITYHQ                        232,299         4.11M            10   \n",
       "KARLJACOBS                        160,297         2.44M            12   \n",
       "BLASTPREMIER                      208,744         4.90M             9   \n",
       "\n",
       "                    followers_gained total_followers total_views  \n",
       "streamer_channel_id                                               \n",
       "TOMMYINNIT                     +857K           3.31M       29.7M  \n",
       "AURONPLAY                      +799K           7.14M       99.6M  \n",
       "QUACKITYHQ                     +557K           2.19M       13.3M  \n",
       "KARLJACOBS                     +321K           1.40M       8.90M  \n",
       "BLASTPREMIER                   +115K            788K       61.8M  "
      ]
     },
     "execution_count": 49,
     "metadata": {},
     "output_type": "execute_result"
    }
   ],
   "source": [
    "# import csv into dataframe\n",
    "df = pd.read_csv(csv)\n",
    "# convert column names to lowercase\n",
    "df.columns = map(str.lower, df.columns)\n",
    "# replace whitespace with underscore for database purposes\n",
    "df.columns = df.columns.str.replace(' ','_')\n",
    "# set index\n",
    "df.set_index('streamer_channel_id', inplace=True)\n",
    "df.head()"
   ]
  },
  {
   "cell_type": "code",
   "execution_count": 3,
   "metadata": {},
   "outputs": [],
   "source": [
    "# define function for converting dataframe to dictionary with rows as main keys \n",
    "def df_rows_todict(dataframe):\n",
    "    df_dict = {}\n",
    "    for index, row in dataframe.iterrows():\n",
    "        column_values = row.to_dict()\n",
    "        df_dict[index] = column_values\n",
    "    return df_dict"
   ]
  },
  {
   "cell_type": "code",
   "execution_count": 10,
   "metadata": {
    "scrolled": true
   },
   "outputs": [],
   "source": [
    "# define function for converting dataframe to dictionary with columns as main keys\n",
    "def df_columns_todict(dataframe):\n",
    "    return dataframe.to_dict()"
   ]
  },
  {
   "cell_type": "code",
   "execution_count": 47,
   "metadata": {},
   "outputs": [],
   "source": [
    "# create our dictionaries using above functions and imported dataframe\n",
    "rows_dict = df_rows_todict(df)\n",
    "columns_dict = df_columns_todict(df)"
   ]
  },
  {
   "cell_type": "code",
   "execution_count": 67,
   "metadata": {},
   "outputs": [],
   "source": [
    "# define function for uploading data to mongodb\n",
    "def upload_db(collection, dictionary):\n",
    "    db_name = 'project2'\n",
    "    myclient = pymongo.MongoClient('mongodb://localhost:27017/')\n",
    "    mydb = myclient[db_name]\n",
    "    mycol = mydb[collection]\n",
    "    # error handling in case collection already exists in database\n",
    "    try:\n",
    "        upload = mycol.insert_one(dictionary)\n",
    "    except:\n",
    "        print('This collection already exists. Change collection name or delete collection in mongodb before trying again.')"
   ]
  },
  {
   "cell_type": "code",
   "execution_count": 68,
   "metadata": {},
   "outputs": [
    {
     "name": "stdout",
     "output_type": "stream",
     "text": [
      "This collection already exists. Change collection name or delete collection in mongodb before trying again.\n"
     ]
    }
   ],
   "source": [
    "# define collection name\n",
    "collection = 'streamer_sorted_data'\n",
    "# call function to upload rows_dict\n",
    "upload_db(collection, rows_dict)"
   ]
  },
  {
   "cell_type": "code",
   "execution_count": 69,
   "metadata": {},
   "outputs": [
    {
     "name": "stdout",
     "output_type": "stream",
     "text": [
      "This collection already exists. Change collection name or delete collection in mongodb before trying again.\n"
     ]
    }
   ],
   "source": [
    "# define collection name\n",
    "collection = 'metrics_sorted_data'\n",
    "# call function to upload columns_dict\n",
    "upload_db(collection, columns_dict)"
   ]
  },
  {
   "cell_type": "code",
   "execution_count": 70,
   "metadata": {},
   "outputs": [],
   "source": [
    "# define collection name\n",
    "collection = 'test'\n",
    "# call function to upload columns_dict\n",
    "upload_db(collection, columns_dict)"
   ]
  },
  {
   "cell_type": "code",
   "execution_count": null,
   "metadata": {},
   "outputs": [],
   "source": []
  }
 ],
 "metadata": {
  "kernelspec": {
   "display_name": "Python 3",
   "language": "python",
   "name": "python3"
  },
  "language_info": {
   "codemirror_mode": {
    "name": "ipython",
    "version": 3
   },
   "file_extension": ".py",
   "mimetype": "text/x-python",
   "name": "python",
   "nbconvert_exporter": "python",
   "pygments_lexer": "ipython3",
   "version": "3.8.5"
  }
 },
 "nbformat": 4,
 "nbformat_minor": 4
}
